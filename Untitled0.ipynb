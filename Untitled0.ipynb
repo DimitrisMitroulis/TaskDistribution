{
  "nbformat": 4,
  "nbformat_minor": 0,
  "metadata": {
    "colab": {
      "provenance": [],
      "authorship_tag": "ABX9TyMYG9XyqttEj5MoHUykZEVN",
      "include_colab_link": true
    },
    "kernelspec": {
      "name": "python3",
      "display_name": "Python 3"
    },
    "language_info": {
      "name": "python"
    }
  },
  "cells": [
    {
      "cell_type": "markdown",
      "metadata": {
        "id": "view-in-github",
        "colab_type": "text"
      },
      "source": [
        "<a href=\"https://colab.research.google.com/github/DimitrisMitroulis/TaskDistribution/blob/main/Untitled0.ipynb\" target=\"_parent\"><img src=\"https://colab.research.google.com/assets/colab-badge.svg\" alt=\"Open In Colab\"/></a>"
      ]
    },
    {
      "cell_type": "code",
      "execution_count": 21,
      "metadata": {
        "id": "NtJ9r9vVS1mK"
      },
      "outputs": [],
      "source": [
        "import numpy as np\n",
        "import matplotlib.pyplot as plt\n",
        "import pandas as pd\n",
        "from tqdm import tqdm\n",
        "from itertools import product"
      ]
    },
    {
      "cell_type": "code",
      "source": [
        "#setup entities\n",
        "class Person:\n",
        "  def __init__(self,name,has_gun,exhaust,c_days,off_days):\n",
        "    self.name = name #str, onoma\n",
        "    self.has_gun = has_gun # bool, enoplos i oxi\n",
        "    self.exhaust = exhaust # float, kourasi\n",
        "    self.c_days = c_days # int, sunexomenes meres ipresias\n",
        "    self.off_days = off_days  # bool, an einai diathesimos\n",
        "    self.tasks = [] # list, me ta assigned tasks mexri twra\n",
        "\n",
        "\n",
        "class Task:\n",
        "  def __init__(self,name,diff,num,enopli=True,wd_task=True):\n",
        "    self.name = name #string, onoma upiresias\n",
        "    self.diff = diff #float, bathmos duskolias\n",
        "    self.num = num #int,to noumero tis upiresisas (1,2,3)\n",
        "    self.enopli = enopli # bool, if it neeeds gun\n",
        "    self.wd_task = wd_task # bool, if it's working day's task\n",
        "\n"
      ],
      "metadata": {
        "id": "VmHNN-ChWOf2"
      },
      "execution_count": 22,
      "outputs": []
    },
    {
      "cell_type": "code",
      "source": [
        "#nitialize all available tasks, people\n",
        "kp1 = Task(\"kp1\",1.2,1)\n",
        "kp2 = Task(\"kp2\",1.2,2)\n",
        "kp3 = Task(\"kp3\",1.2,3)\n",
        "\n",
        "kp2_par = Task(\"kp2\",1,2,wd_task=False)\n",
        "kp3_par = Task(\"kp3\",1,3,wd_task=False)\n",
        "kp2_kur = Task(\"kp2\",1.4,2,wd_task=False)\n",
        "kp3_kur = Task(\"kp3\",1.4,3,wd_task=False)\n",
        "\n",
        "th1 = Task(\"th1\",1,1,False)\n",
        "th2 = Task(\"th2\",1,2,False)\n",
        "th3 = Task(\"th3\",1,2,False)\n",
        "\n",
        "th2_par = Task(\"th2\",0.9,2,False,wd_task=False)\n",
        "th3_par = Task(\"th3\",0.9,2,False,wd_task=False)\n",
        "th2_kur = Task(\"th2\",1.1,2,False,wd_task=False)\n",
        "th3_kur = Task(\"th3\",1.1,2,False,wd_task=False)\n",
        "\n",
        "aot1 = Task(\"aot1\",1.1,1)\n",
        "aot2 = Task(\"aot2\",1.1,2)\n",
        "aot3 = Task(\"aot3\",1.1,3)\n",
        "\n",
        "aot2_par = Task(\"aot2\",0.95,2,wd_task=False)\n",
        "aot3_par = Task(\"aot3\",0.95,3,wd_task=False)\n",
        "aot2_kur = Task(\"aot2\",1.25,2,wd_task=False)\n",
        "aot3_kur = Task(\"aot3\",1.25,3,wd_task=False)\n",
        "\n",
        "est = Task(\"est\",0.7,0,False)\n",
        "louk = Task(\"louk\",0.7,0)\n",
        "tourli = Task(\"tourli\",0.6,0)\n",
        "lesxi = Task(\"lesxi\",0,0,False)\n",
        "eksodos = Task(\"eksodos\",0,0)\n",
        "\n",
        "\n",
        "Mitroulis = Person(\"mitroulis\",True,0,0,[])\n",
        "Xamouratidis = Person(\"xamouratidis\",True,0,0,[])\n",
        "Kampouris = Person(\"kampouris\",True,0,0,[])\n",
        "Rogdakis = Person(\"rogdakis\",True,0,0,[])\n",
        "Kontos = Person(\"kontos\",False,0,0,[])\n",
        "\n",
        "Gerontatis = Person(\"gerontatis\",True,0,0,[])\n",
        "Papagiannis = Person(\"papagiannis\",False,0,0,[])\n",
        "Traiforos = Person(\"traiforos\",True,0,0,[])\n",
        "Roumpos = Person(\"roumpos\",True,0,0,[])\n",
        "Fountis = Person(\"fountis\",False,0,0,[])\n",
        "Palios = Person(\"palios\",True,0,0,[])\n",
        "Iliakopoulos = Person(\"iliakopoulos\",True,0,0,[])\n",
        "Gkountelopoulos = Person(\"gkountelopoulos\",True,0,0,[])\n",
        "Papaoikonomou = Person(\"papaoikonomou\",True,0,0,[])\n",
        "###############################################\n",
        "\n",
        "people_list = [Mitroulis, Xamouratidis,Kampouris, Rogdakis,Kontos,\n",
        "               Gerontatis, Papagiannis, Traiforos, Roumpos, Fountis,\n",
        "               Palios, Iliakopoulos,Gkountelopoulos, Papaoikonomou]\n",
        "\n",
        "\n",
        "enoploi = [person for person in people_list if person.has_gun]\n",
        "aoploi = [person for person in people_list if not person.has_gun]\n",
        "\n",
        "\n",
        "mon_tasks = [kp1,kp2,th2,th3,aot1,aot2,eksodos, louk,tourli]\n",
        "tues_tasks = [kp1,kp2,th2,th3,aot1,aot2,eksodos, louk,tourli]\n",
        "wed_tasks = [kp1,kp2,th2,th3,aot1,aot2,eksodos, louk,tourli]\n",
        "thir_tasks = [kp1,kp2,th2,th3,aot1,aot2,eksodos, louk,tourli]\n",
        "frid_tasks = [kp1,kp2_par,th2_par,th3_par,aot1,aot2_par,eksodos,louk,tourli]\n",
        "sat_tasks = [kp1,kp2_par,th2_par,th3_par,aot1,aot2_par,eksodos,louk,tourli]\n",
        "sun_tasks = [kp1,kp2_kur,th2_kur,th3_kur,aot1,aot2_kur,eksodos,louk,tourli]\n",
        "\n",
        "\n",
        "task_list = [mon_tasks,tues_tasks,wed_tasks,thir_tasks,frid_tasks,sat_tasks,sun_tasks]\n"
      ],
      "metadata": {
        "id": "OO0nawnuwoSU"
      },
      "execution_count": 28,
      "outputs": []
    },
    {
      "cell_type": "code",
      "source": [
        "aoploi[1].name"
      ],
      "metadata": {
        "colab": {
          "base_uri": "https://localhost:8080/",
          "height": 35
        },
        "id": "fbqyUhSXwWL0",
        "outputId": "78d129f4-dd82-47c6-de3d-60a4bc9864eb"
      },
      "execution_count": 32,
      "outputs": [
        {
          "output_type": "execute_result",
          "data": {
            "text/plain": [
              "'papagiannis'"
            ],
            "application/vnd.google.colaboratory.intrinsic+json": {
              "type": "string"
            }
          },
          "metadata": {},
          "execution_count": 32
        }
      ]
    },
    {
      "cell_type": "code",
      "source": [
        "# initialize objective function, exhaustion system\n",
        "\n",
        "# return transition coefficient between each task\n",
        "def trans_coeff(task1,task2):\n",
        "  if task1.noumero == task2.noumero:\n",
        "    return 1\n",
        "  elif task1.noumero < task2.noumero and task1.wd_task and task2.wd_task:\n",
        "    return 0.8\n",
        "  elif task1.noumero > task2.noumero and task1.wd_task and task2.wd_task:\n",
        "    return 1.2\n",
        "\n",
        "def calc_exhaust(person,task_list):\n",
        "  sum = person.exhaust\n",
        "  if len(task_list)>1:\n",
        "    for i, task in enumerate(task_list):\n",
        "      sum *= task.diff\n",
        "      sum += trans_coeff(task, task_list[i+1])\n",
        "  else:\n",
        "    return task_list[0].diff\n",
        "\n",
        "\n",
        "def gen_tasks():\n",
        "\n",
        "\n"
      ],
      "metadata": {
        "id": "DC0CSrEpdxI1"
      },
      "execution_count": null,
      "outputs": []
    },
    {
      "cell_type": "code",
      "source": [
        "from itertools import product\n",
        "\n",
        "class Person:\n",
        "    def __init__(self, skill):\n",
        "        self.skill = skill\n",
        "\n",
        "class Task:\n",
        "    def __init__(self, skill):\n",
        "        self.skill = skill\n",
        "\n",
        "def generate_possible_assignments(people, tasks):\n",
        "    assignments = []\n",
        "\n",
        "    for assignment in product(people, tasks):\n",
        "        person, task = assignment\n",
        "\n",
        "        # Check if the person can perform the task based on skills\n",
        "        if person.skill or not task.skill:\n",
        "            assignments.append((person, task))\n",
        "\n",
        "    return assignments\n",
        "\n",
        "# Example usage\n",
        "person1 = Person(skill=True)\n",
        "person2 = Person(skill=False)\n",
        "\n",
        "task1 = Task(skill=True)\n",
        "task2 = Task(skill=False)\n",
        "\n",
        "people_list = [person1, person2]\n",
        "tasks_list = [task1, task2]\n",
        "\n",
        "possible_assignments = generate_possible_assignments(people_list, tasks_list)\n",
        "\n",
        "# Display the possible assignments\n",
        "for assignment in possible_assignments:\n",
        "    person, task = assignment\n",
        "    print(f\"Person with skill {person.skill} can perform task with skill {task.skill}\")\n"
      ],
      "metadata": {
        "colab": {
          "base_uri": "https://localhost:8080/"
        },
        "id": "n8_GPgm2jifO",
        "outputId": "e452461b-5d35-4773-da24-5948ad15d264"
      },
      "execution_count": 11,
      "outputs": [
        {
          "output_type": "stream",
          "name": "stdout",
          "text": [
            "Person with skill True can perform task with skill True\n",
            "Person with skill True can perform task with skill False\n",
            "Person with skill False can perform task with skill False\n"
          ]
        }
      ]
    },
    {
      "cell_type": "code",
      "source": [
        "for i in product([1,2],[3,4]):\n",
        "  print(i)"
      ],
      "metadata": {
        "colab": {
          "base_uri": "https://localhost:8080/"
        },
        "id": "vVjO01kxj_sS",
        "outputId": "7a3c8eec-4d85-4ff6-d4d3-b00ccbdd1199"
      },
      "execution_count": 19,
      "outputs": [
        {
          "output_type": "stream",
          "name": "stdout",
          "text": [
            "(1, 3)\n",
            "(1, 4)\n",
            "(2, 3)\n",
            "(2, 4)\n"
          ]
        }
      ]
    },
    {
      "cell_type": "code",
      "source": [
        "for i in [1,2]:\n",
        "  for j in [3,4]:\n",
        "    print([i,j])"
      ],
      "metadata": {
        "colab": {
          "base_uri": "https://localhost:8080/"
        },
        "id": "1sp6xAjAkc6x",
        "outputId": "5e202c07-27fb-4f94-9c57-8ade126d3f08"
      },
      "execution_count": 20,
      "outputs": [
        {
          "output_type": "stream",
          "name": "stdout",
          "text": [
            "[1, 3]\n",
            "[1, 4]\n",
            "[2, 3]\n",
            "[2, 4]\n"
          ]
        }
      ]
    },
    {
      "cell_type": "code",
      "source": [],
      "metadata": {
        "id": "LueyrZIZuIWI"
      },
      "execution_count": null,
      "outputs": []
    }
  ]
}